{
 "cells": [
  {
   "cell_type": "code",
   "execution_count": 2,
   "id": "583ee769",
   "metadata": {},
   "outputs": [
    {
     "name": "stdout",
     "output_type": "stream",
     "text": [
      "Xuất ra file output.txt thành công!\n"
     ]
    }
   ],
   "source": [
    "from collections import deque\n",
    "from tabulate import tabulate\n",
    "\n",
    "def bfs(graph, start_state, end_state):\n",
    "    # Khởi tạo hàng đợi và thêm trạng thái ban đầu vào hàng đợi\n",
    "    queue = deque([(start_state, [start_state])])\n",
    "\n",
    "    # Khởi tạo danh sách L lưu trạng thái đã duyệt\n",
    "    visited = set()\n",
    "    visited.add(start_state)\n",
    "\n",
    "    # Khởi tạo bảng phát triển thuật toán\n",
    "    algorithm_table = []\n",
    "\n",
    "    # Duyệt BFS\n",
    "    while queue:\n",
    "        state, path = queue.popleft()\n",
    "        neighbors = graph[state]\n",
    "        algorithm_table.append([state, neighbors, path])\n",
    "\n",
    "        if state == end_state:\n",
    "            return algorithm_table, path\n",
    "\n",
    "        for neighbor in neighbors:\n",
    "            if neighbor not in visited:\n",
    "                queue.append((neighbor, path + [neighbor]))\n",
    "                visited.add(neighbor)\n",
    "\n",
    "    return algorithm_table, None\n",
    "\n",
    "# Đọc dữ liệu từ file input.txt\n",
    "with open('input.txt', 'r', encoding='utf-8') as file:\n",
    "    content = file.read()\n",
    "\n",
    "# Tạo đồ thị từ dữ liệu đọc được\n",
    "exec(content)\n",
    "\n",
    "# Tìm kiếm BFS\n",
    "algorithm_table, path = bfs(graph, start_state, end_state)\n",
    "\n",
    "# Ghi kết quả vào file output.txt\n",
    "with open('output.txt', 'w', encoding='utf-8') as file:\n",
    "    # Ghi bảng phát triển thuật toán\n",
    "    table_headers = ['Trạng thái', 'Trạng thái kế', 'Danh sách L']\n",
    "    table = tabulate(algorithm_table, headers=table_headers, tablefmt='fancy_grid')\n",
    "    file.write(\"Bảng phát triển thuật toán:\\n\")\n",
    "    file.write(table)\n",
    "    file.write('\\n')\n",
    "\n",
    "    # Ghi đường đi từ trạng thái đầu đến trạng thái kết thúc\n",
    "    file.write(f\"Đường đi từ {start_state} đến {end_state}:\\n\")\n",
    "    if path:\n",
    "        file.write(' -> '.join(path))\n",
    "    else:\n",
    "        file.write(\"Không tìm thấy đường đi!\")\n",
    "\n",
    "print(\"Xuất ra file output.txt thành công!\")"
   ]
  },
  {
   "cell_type": "code",
   "execution_count": 6,
   "id": "0053565c",
   "metadata": {},
   "outputs": [
    {
     "ename": "ValueError",
     "evalue": "Invalid pre-set style",
     "output_type": "error",
     "traceback": [
      "\u001b[1;31m---------------------------------------------------------------------------\u001b[0m",
      "\u001b[1;31mValueError\u001b[0m                                Traceback (most recent call last)",
      "\u001b[1;32m~\\AppData\\Local\\Temp\\ipykernel_8628\\2364691228.py\u001b[0m in \u001b[0;36m<module>\u001b[1;34m\u001b[0m\n\u001b[0;32m     13\u001b[0m \u001b[1;33m\u001b[0m\u001b[0m\n\u001b[0;32m     14\u001b[0m \u001b[1;31m# Thiết lập kiểu hiển thị là fancy_grid\u001b[0m\u001b[1;33m\u001b[0m\u001b[1;33m\u001b[0m\u001b[0m\n\u001b[1;32m---> 15\u001b[1;33m \u001b[0mtable\u001b[0m\u001b[1;33m.\u001b[0m\u001b[0mset_style\u001b[0m\u001b[1;33m(\u001b[0m\u001b[1;34m\"fancy_grid\"\u001b[0m\u001b[1;33m)\u001b[0m\u001b[1;33m\u001b[0m\u001b[1;33m\u001b[0m\u001b[0m\n\u001b[0m\u001b[0;32m     16\u001b[0m \u001b[1;33m\u001b[0m\u001b[0m\n\u001b[0;32m     17\u001b[0m \u001b[1;31m# In bảng\u001b[0m\u001b[1;33m\u001b[0m\u001b[1;33m\u001b[0m\u001b[0m\n",
      "\u001b[1;32m~\\AppData\\Roaming\\Python\\Python39\\site-packages\\prettytable\\prettytable.py\u001b[0m in \u001b[0;36mset_style\u001b[1;34m(self, style)\u001b[0m\n\u001b[0;32m   1289\u001b[0m         \u001b[1;32melse\u001b[0m\u001b[1;33m:\u001b[0m\u001b[1;33m\u001b[0m\u001b[1;33m\u001b[0m\u001b[0m\n\u001b[0;32m   1290\u001b[0m             \u001b[0mmsg\u001b[0m \u001b[1;33m=\u001b[0m \u001b[1;34m\"Invalid pre-set style\"\u001b[0m\u001b[1;33m\u001b[0m\u001b[1;33m\u001b[0m\u001b[0m\n\u001b[1;32m-> 1291\u001b[1;33m             \u001b[1;32mraise\u001b[0m \u001b[0mValueError\u001b[0m\u001b[1;33m(\u001b[0m\u001b[0mmsg\u001b[0m\u001b[1;33m)\u001b[0m\u001b[1;33m\u001b[0m\u001b[1;33m\u001b[0m\u001b[0m\n\u001b[0m\u001b[0;32m   1292\u001b[0m \u001b[1;33m\u001b[0m\u001b[0m\n\u001b[0;32m   1293\u001b[0m     \u001b[1;32mdef\u001b[0m \u001b[0m_set_orgmode_style\u001b[0m\u001b[1;33m(\u001b[0m\u001b[0mself\u001b[0m\u001b[1;33m)\u001b[0m \u001b[1;33m->\u001b[0m \u001b[1;32mNone\u001b[0m\u001b[1;33m:\u001b[0m\u001b[1;33m\u001b[0m\u001b[1;33m\u001b[0m\u001b[0m\n",
      "\u001b[1;31mValueError\u001b[0m: Invalid pre-set style"
     ]
    }
   ],
   "source": [
    "from prettytable import PrettyTable\n",
    "\n",
    "# Tạo một đối tượng PrettyTable\n",
    "table = PrettyTable()\n",
    "\n",
    "# Thêm các cột vào bảng\n",
    "table.field_names = [\"Tên\", \"Tuổi\", \"Địa chỉ\"]\n",
    "\n",
    "# Thêm dữ liệu vào bảng\n",
    "table.add_row([\"John\", 25, \"123 Main St\"])\n",
    "table.add_row([\"Alice\", 30, \"456 Elm St\"])\n",
    "table.add_row([\"Bob\", 35, \"789 Oak St\"])\n",
    "\n",
    "# Thiết lập kiểu hiển thị là fancy_grid\n",
    "table.set_style(\"fancy_grid\")\n",
    "\n",
    "# In bảng\n",
    "print(table)"
   ]
  },
  {
   "cell_type": "code",
   "execution_count": 7,
   "id": "b87a6971",
   "metadata": {},
   "outputs": [
    {
     "name": "stdout",
     "output_type": "stream",
     "text": [
      "Defaulting to user installation because normal site-packages is not writeableNote: you may need to restart the kernel to use updated packages.\n",
      "\n",
      "Requirement already satisfied: prettytable in c:\\users\\admin\\appdata\\roaming\\python\\python39\\site-packages (3.10.0)\n",
      "Requirement already satisfied: wcwidth in e:\\anaconda python\\lib\\site-packages (from prettytable) (0.2.5)\n"
     ]
    }
   ],
   "source": [
    "pip install --upgrade prettytable"
   ]
  },
  {
   "cell_type": "code",
   "execution_count": null,
   "id": "8c064d11",
   "metadata": {},
   "outputs": [],
   "source": []
  },
  {
   "cell_type": "code",
   "execution_count": null,
   "id": "7fa0fade",
   "metadata": {},
   "outputs": [],
   "source": []
  }
 ],
 "metadata": {
  "kernelspec": {
   "display_name": "Python 3 (ipykernel)",
   "language": "python",
   "name": "python3"
  },
  "language_info": {
   "codemirror_mode": {
    "name": "ipython",
    "version": 3
   },
   "file_extension": ".py",
   "mimetype": "text/x-python",
   "name": "python",
   "nbconvert_exporter": "python",
   "pygments_lexer": "ipython3",
   "version": "3.9.13"
  }
 },
 "nbformat": 4,
 "nbformat_minor": 5
}
